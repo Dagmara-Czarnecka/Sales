{
 "cells": [
  {
   "cell_type": "code",
   "execution_count": 2,
   "id": "23a51687",
   "metadata": {},
   "outputs": [
    {
     "name": "stdout",
     "output_type": "stream",
     "text": [
      "Total sales across all months: $45542.00\n"
     ]
    }
   ],
   "source": [
    "import csv\n",
    "\n",
    "def read_sales_data(file_path):\n",
    "    sales = []\n",
    "    with open(file_path, 'r') as csvfile:\n",
    "        reader = csv.DictReader(csvfile)\n",
    "        for row in reader:\n",
    "            sales.append(float(row['sales']))\n",
    "    return sales\n",
    "\n",
    "def calculate_total_sales(sales):\n",
    "    total_sales = sum(sales)\n",
    "    return total_sales\n",
    "\n",
    "def main():\n",
    "    file_path = 'sales.csv'\n",
    "    sales = read_sales_data(file_path)\n",
    "    total_sales = calculate_total_sales(sales)\n",
    "    print(f\"Total sales across all months: ${total_sales:.2f}\")\n",
    "\n",
    "if __name__ == \"__main__\":\n",
    "    main()\n"
   ]
  },
  {
   "cell_type": "code",
   "execution_count": 3,
   "id": "6b4854b9",
   "metadata": {},
   "outputs": [
    {
     "name": "stdout",
     "output_type": "stream",
     "text": [
      "Total sales across all months: $45542.00\n",
      "Monthly changes as a percentage:\n",
      "Month 1: -75.57%\n",
      "Month 2: 21.10%\n",
      "Month 3: 11.35%\n",
      "Month 4: -15.75%\n",
      "Month 5: 23.73%\n",
      "Month 6: 249.81%\n",
      "Month 7: -40.71%\n",
      "Month 8: -18.47%\n",
      "Month 9: 51.37%\n",
      "Month 10: 32.02%\n",
      "Month 11: -74.92%\n",
      "Average sales: $3795.17\n"
     ]
    }
   ],
   "source": [
    "def calculate_monthly_changes(sales):\n",
    "    monthly_changes = []\n",
    "    for i in range(1, len(sales)):\n",
    "        change = ((sales[i] - sales[i-1]) / sales[i-1]) * 100\n",
    "        monthly_changes.append(change)\n",
    "    return monthly_changes\n",
    "\n",
    "def calculate_average_sales(sales):\n",
    "    average_sales = sum(sales) / len(sales)\n",
    "    return average_sales\n",
    "\n",
    "def main():\n",
    "    file_path = 'sales.csv'\n",
    "    sales = read_sales_data(file_path)\n",
    "    total_sales = calculate_total_sales(sales)\n",
    "    monthly_changes = calculate_monthly_changes(sales)\n",
    "    average_sales = calculate_average_sales(sales)\n",
    "\n",
    "    print(f\"Total sales across all months: ${total_sales:.2f}\")\n",
    "    print(\"Monthly changes as a percentage:\")\n",
    "    for i, change in enumerate(monthly_changes):\n",
    "        print(f\"Month {i+1}: {change:.2f}%\")\n",
    "    print(f\"Average sales: ${average_sales:.2f}\")\n",
    "\n",
    "if __name__ == \"__main__\":\n",
    "    main()\n"
   ]
  },
  {
   "cell_type": "code",
   "execution_count": null,
   "id": "9cb043b5",
   "metadata": {},
   "outputs": [],
   "source": []
  }
 ],
 "metadata": {
  "kernelspec": {
   "display_name": "Python 3 (ipykernel)",
   "language": "python",
   "name": "python3"
  },
  "language_info": {
   "codemirror_mode": {
    "name": "ipython",
    "version": 3
   },
   "file_extension": ".py",
   "mimetype": "text/x-python",
   "name": "python",
   "nbconvert_exporter": "python",
   "pygments_lexer": "ipython3",
   "version": "3.9.12"
  }
 },
 "nbformat": 4,
 "nbformat_minor": 5
}
